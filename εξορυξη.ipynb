{
 "cells": [
  {
   "cell_type": "code",
   "execution_count": 75,
   "metadata": {},
   "outputs": [],
   "source": [
    "import pandas as pd\n",
    "import numpy as np\n",
    "import matplotlib.pyplot as plt\n",
    "import seaborn as sns\n",
    "from sklearn.preprocessing import LabelEncoder,MinMaxScaler\n",
    "from sklearn.linear_model import LinearRegression\n",
    "from sklearn.impute import KNNImputer\n",
    "from sklearn.ensemble import RandomForestClassifier\n",
    "from sklearn.metrics import classification_report, roc_auc_score, accuracy_score, roc_curve\n",
    "from sklearn.neighbors import KNeighborsClassifier\n",
    "from sklearn.model_selection import train_test_split\n",
    "from sklearn.utils.class_weight import compute_class_weight\n",
    "\n",
    "from imblearn.ensemble import BalancedRandomForestClassifier"
   ]
  },
  {
   "cell_type": "code",
   "execution_count": 29,
   "metadata": {},
   "outputs": [],
   "source": [
    "data=pd.read_csv(r\"C:\\Users\\krist\\Downloads\\healthcare-dataset-stroke-data\\healthcare-dataset-stroke-data.csv\")"
   ]
  },
  {
   "cell_type": "code",
   "execution_count": 30,
   "metadata": {
    "scrolled": true
   },
   "outputs": [
    {
     "data": {
      "text/html": [
       "<div>\n",
       "<style scoped>\n",
       "    .dataframe tbody tr th:only-of-type {\n",
       "        vertical-align: middle;\n",
       "    }\n",
       "\n",
       "    .dataframe tbody tr th {\n",
       "        vertical-align: top;\n",
       "    }\n",
       "\n",
       "    .dataframe thead th {\n",
       "        text-align: right;\n",
       "    }\n",
       "</style>\n",
       "<table border=\"1\" class=\"dataframe\">\n",
       "  <thead>\n",
       "    <tr style=\"text-align: right;\">\n",
       "      <th></th>\n",
       "      <th>gender</th>\n",
       "      <th>age</th>\n",
       "      <th>hypertension</th>\n",
       "      <th>heart_disease</th>\n",
       "      <th>ever_married</th>\n",
       "      <th>work_type</th>\n",
       "      <th>Residence_type</th>\n",
       "      <th>avg_glucose_level</th>\n",
       "      <th>bmi</th>\n",
       "      <th>smoking_status</th>\n",
       "      <th>stroke</th>\n",
       "    </tr>\n",
       "  </thead>\n",
       "  <tbody>\n",
       "    <tr>\n",
       "      <th>0</th>\n",
       "      <td>Male</td>\n",
       "      <td>67.0</td>\n",
       "      <td>0</td>\n",
       "      <td>1</td>\n",
       "      <td>Yes</td>\n",
       "      <td>Private</td>\n",
       "      <td>Urban</td>\n",
       "      <td>228.69</td>\n",
       "      <td>36.6</td>\n",
       "      <td>formerly smoked</td>\n",
       "      <td>1</td>\n",
       "    </tr>\n",
       "    <tr>\n",
       "      <th>1</th>\n",
       "      <td>Female</td>\n",
       "      <td>61.0</td>\n",
       "      <td>0</td>\n",
       "      <td>0</td>\n",
       "      <td>Yes</td>\n",
       "      <td>Self-employed</td>\n",
       "      <td>Rural</td>\n",
       "      <td>202.21</td>\n",
       "      <td>NaN</td>\n",
       "      <td>never smoked</td>\n",
       "      <td>1</td>\n",
       "    </tr>\n",
       "    <tr>\n",
       "      <th>2</th>\n",
       "      <td>Male</td>\n",
       "      <td>80.0</td>\n",
       "      <td>0</td>\n",
       "      <td>1</td>\n",
       "      <td>Yes</td>\n",
       "      <td>Private</td>\n",
       "      <td>Rural</td>\n",
       "      <td>105.92</td>\n",
       "      <td>32.5</td>\n",
       "      <td>never smoked</td>\n",
       "      <td>1</td>\n",
       "    </tr>\n",
       "    <tr>\n",
       "      <th>3</th>\n",
       "      <td>Female</td>\n",
       "      <td>49.0</td>\n",
       "      <td>0</td>\n",
       "      <td>0</td>\n",
       "      <td>Yes</td>\n",
       "      <td>Private</td>\n",
       "      <td>Urban</td>\n",
       "      <td>171.23</td>\n",
       "      <td>34.4</td>\n",
       "      <td>smokes</td>\n",
       "      <td>1</td>\n",
       "    </tr>\n",
       "    <tr>\n",
       "      <th>4</th>\n",
       "      <td>Female</td>\n",
       "      <td>79.0</td>\n",
       "      <td>1</td>\n",
       "      <td>0</td>\n",
       "      <td>Yes</td>\n",
       "      <td>Self-employed</td>\n",
       "      <td>Rural</td>\n",
       "      <td>174.12</td>\n",
       "      <td>24.0</td>\n",
       "      <td>never smoked</td>\n",
       "      <td>1</td>\n",
       "    </tr>\n",
       "  </tbody>\n",
       "</table>\n",
       "</div>"
      ],
      "text/plain": [
       "   gender   age  hypertension  heart_disease ever_married      work_type  \\\n",
       "0    Male  67.0             0              1          Yes        Private   \n",
       "1  Female  61.0             0              0          Yes  Self-employed   \n",
       "2    Male  80.0             0              1          Yes        Private   \n",
       "3  Female  49.0             0              0          Yes        Private   \n",
       "4  Female  79.0             1              0          Yes  Self-employed   \n",
       "\n",
       "  Residence_type  avg_glucose_level   bmi   smoking_status  stroke  \n",
       "0          Urban             228.69  36.6  formerly smoked       1  \n",
       "1          Rural             202.21   NaN     never smoked       1  \n",
       "2          Rural             105.92  32.5     never smoked       1  \n",
       "3          Urban             171.23  34.4           smokes       1  \n",
       "4          Rural             174.12  24.0     never smoked       1  "
      ]
     },
     "execution_count": 30,
     "metadata": {},
     "output_type": "execute_result"
    }
   ],
   "source": [
    "data = data.drop('id', axis=1)\n",
    "data['smoking_status'].replace('Unknown', np.nan, inplace=True)\n",
    "data.head()"
   ]
  },
  {
   "cell_type": "code",
   "execution_count": 31,
   "metadata": {
    "scrolled": true
   },
   "outputs": [
    {
     "data": {
      "text/plain": [
       "gender                  0\n",
       "age                     0\n",
       "hypertension            0\n",
       "heart_disease           0\n",
       "ever_married            0\n",
       "work_type               0\n",
       "Residence_type          0\n",
       "avg_glucose_level       0\n",
       "bmi                   201\n",
       "smoking_status       1544\n",
       "stroke                  0\n",
       "dtype: int64"
      ]
     },
     "execution_count": 31,
     "metadata": {},
     "output_type": "execute_result"
    }
   ],
   "source": [
    "data.isna().sum()"
   ]
  },
  {
   "cell_type": "code",
   "execution_count": 32,
   "metadata": {
    "scrolled": false
   },
   "outputs": [
    {
     "data": {
      "text/plain": [
       "Female    2994\n",
       "Male      2115\n",
       "Other        1\n",
       "Name: gender, dtype: int64"
      ]
     },
     "execution_count": 32,
     "metadata": {},
     "output_type": "execute_result"
    }
   ],
   "source": [
    "data['gender'].value_counts()"
   ]
  },
  {
   "cell_type": "code",
   "execution_count": 33,
   "metadata": {},
   "outputs": [
    {
     "data": {
      "text/plain": [
       "Female    2994\n",
       "Male      2115\n",
       "Name: gender, dtype: int64"
      ]
     },
     "execution_count": 33,
     "metadata": {},
     "output_type": "execute_result"
    }
   ],
   "source": [
    "#drop that other altogether\n",
    "data = data.drop(data[data['gender'] == 'Other'].index)\n",
    "data['gender'].value_counts()"
   ]
  },
  {
   "cell_type": "code",
   "execution_count": 37,
   "metadata": {
    "scrolled": true
   },
   "outputs": [
    {
     "name": "stdout",
     "output_type": "stream",
     "text": [
      "gender\n",
      "ever_married\n",
      "work_type\n",
      "Residence_type\n",
      "smoking_status\n"
     ]
    }
   ],
   "source": [
    "#categorical data encoding\n",
    "categorical_columns = data.columns[data.dtypes==object].tolist() #find categorical data\n",
    "\n",
    "encoder = LabelEncoder() #categorical encoder\n",
    "encoded_data = data.copy()\n",
    "for feature in categorical_columns:\n",
    "    print(feature)\n",
    "\n",
    "    encoder.fit(data[feature])\n",
    "    encoded_data[feature] = encoder.transform(encoded_data[feature])\n",
    "    encoded_data['smoking_status'].replace(3, np.nan, inplace=True)"
   ]
  },
  {
   "cell_type": "code",
   "execution_count": 38,
   "metadata": {
    "scrolled": true
   },
   "outputs": [
    {
     "data": {
      "text/html": [
       "<div>\n",
       "<style scoped>\n",
       "    .dataframe tbody tr th:only-of-type {\n",
       "        vertical-align: middle;\n",
       "    }\n",
       "\n",
       "    .dataframe tbody tr th {\n",
       "        vertical-align: top;\n",
       "    }\n",
       "\n",
       "    .dataframe thead th {\n",
       "        text-align: right;\n",
       "    }\n",
       "</style>\n",
       "<table border=\"1\" class=\"dataframe\">\n",
       "  <thead>\n",
       "    <tr style=\"text-align: right;\">\n",
       "      <th></th>\n",
       "      <th>gender</th>\n",
       "      <th>age</th>\n",
       "      <th>hypertension</th>\n",
       "      <th>heart_disease</th>\n",
       "      <th>ever_married</th>\n",
       "      <th>work_type</th>\n",
       "      <th>Residence_type</th>\n",
       "      <th>avg_glucose_level</th>\n",
       "      <th>bmi</th>\n",
       "      <th>smoking_status</th>\n",
       "      <th>stroke</th>\n",
       "    </tr>\n",
       "  </thead>\n",
       "  <tbody>\n",
       "    <tr>\n",
       "      <th>0</th>\n",
       "      <td>1</td>\n",
       "      <td>67.0</td>\n",
       "      <td>0</td>\n",
       "      <td>1</td>\n",
       "      <td>1</td>\n",
       "      <td>2</td>\n",
       "      <td>1</td>\n",
       "      <td>228.69</td>\n",
       "      <td>36.6</td>\n",
       "      <td>0.0</td>\n",
       "      <td>1</td>\n",
       "    </tr>\n",
       "    <tr>\n",
       "      <th>1</th>\n",
       "      <td>0</td>\n",
       "      <td>61.0</td>\n",
       "      <td>0</td>\n",
       "      <td>0</td>\n",
       "      <td>1</td>\n",
       "      <td>3</td>\n",
       "      <td>0</td>\n",
       "      <td>202.21</td>\n",
       "      <td>NaN</td>\n",
       "      <td>1.0</td>\n",
       "      <td>1</td>\n",
       "    </tr>\n",
       "    <tr>\n",
       "      <th>2</th>\n",
       "      <td>1</td>\n",
       "      <td>80.0</td>\n",
       "      <td>0</td>\n",
       "      <td>1</td>\n",
       "      <td>1</td>\n",
       "      <td>2</td>\n",
       "      <td>0</td>\n",
       "      <td>105.92</td>\n",
       "      <td>32.5</td>\n",
       "      <td>1.0</td>\n",
       "      <td>1</td>\n",
       "    </tr>\n",
       "    <tr>\n",
       "      <th>3</th>\n",
       "      <td>0</td>\n",
       "      <td>49.0</td>\n",
       "      <td>0</td>\n",
       "      <td>0</td>\n",
       "      <td>1</td>\n",
       "      <td>2</td>\n",
       "      <td>1</td>\n",
       "      <td>171.23</td>\n",
       "      <td>34.4</td>\n",
       "      <td>2.0</td>\n",
       "      <td>1</td>\n",
       "    </tr>\n",
       "    <tr>\n",
       "      <th>4</th>\n",
       "      <td>0</td>\n",
       "      <td>79.0</td>\n",
       "      <td>1</td>\n",
       "      <td>0</td>\n",
       "      <td>1</td>\n",
       "      <td>3</td>\n",
       "      <td>0</td>\n",
       "      <td>174.12</td>\n",
       "      <td>24.0</td>\n",
       "      <td>1.0</td>\n",
       "      <td>1</td>\n",
       "    </tr>\n",
       "    <tr>\n",
       "      <th>...</th>\n",
       "      <td>...</td>\n",
       "      <td>...</td>\n",
       "      <td>...</td>\n",
       "      <td>...</td>\n",
       "      <td>...</td>\n",
       "      <td>...</td>\n",
       "      <td>...</td>\n",
       "      <td>...</td>\n",
       "      <td>...</td>\n",
       "      <td>...</td>\n",
       "      <td>...</td>\n",
       "    </tr>\n",
       "    <tr>\n",
       "      <th>5105</th>\n",
       "      <td>0</td>\n",
       "      <td>80.0</td>\n",
       "      <td>1</td>\n",
       "      <td>0</td>\n",
       "      <td>1</td>\n",
       "      <td>2</td>\n",
       "      <td>1</td>\n",
       "      <td>83.75</td>\n",
       "      <td>NaN</td>\n",
       "      <td>1.0</td>\n",
       "      <td>0</td>\n",
       "    </tr>\n",
       "    <tr>\n",
       "      <th>5106</th>\n",
       "      <td>0</td>\n",
       "      <td>81.0</td>\n",
       "      <td>0</td>\n",
       "      <td>0</td>\n",
       "      <td>1</td>\n",
       "      <td>3</td>\n",
       "      <td>1</td>\n",
       "      <td>125.20</td>\n",
       "      <td>40.0</td>\n",
       "      <td>1.0</td>\n",
       "      <td>0</td>\n",
       "    </tr>\n",
       "    <tr>\n",
       "      <th>5107</th>\n",
       "      <td>0</td>\n",
       "      <td>35.0</td>\n",
       "      <td>0</td>\n",
       "      <td>0</td>\n",
       "      <td>1</td>\n",
       "      <td>3</td>\n",
       "      <td>0</td>\n",
       "      <td>82.99</td>\n",
       "      <td>30.6</td>\n",
       "      <td>1.0</td>\n",
       "      <td>0</td>\n",
       "    </tr>\n",
       "    <tr>\n",
       "      <th>5108</th>\n",
       "      <td>1</td>\n",
       "      <td>51.0</td>\n",
       "      <td>0</td>\n",
       "      <td>0</td>\n",
       "      <td>1</td>\n",
       "      <td>2</td>\n",
       "      <td>0</td>\n",
       "      <td>166.29</td>\n",
       "      <td>25.6</td>\n",
       "      <td>0.0</td>\n",
       "      <td>0</td>\n",
       "    </tr>\n",
       "    <tr>\n",
       "      <th>5109</th>\n",
       "      <td>0</td>\n",
       "      <td>44.0</td>\n",
       "      <td>0</td>\n",
       "      <td>0</td>\n",
       "      <td>1</td>\n",
       "      <td>0</td>\n",
       "      <td>1</td>\n",
       "      <td>85.28</td>\n",
       "      <td>26.2</td>\n",
       "      <td>NaN</td>\n",
       "      <td>0</td>\n",
       "    </tr>\n",
       "  </tbody>\n",
       "</table>\n",
       "<p>5109 rows × 11 columns</p>\n",
       "</div>"
      ],
      "text/plain": [
       "      gender   age  hypertension  heart_disease  ever_married  work_type  \\\n",
       "0          1  67.0             0              1             1          2   \n",
       "1          0  61.0             0              0             1          3   \n",
       "2          1  80.0             0              1             1          2   \n",
       "3          0  49.0             0              0             1          2   \n",
       "4          0  79.0             1              0             1          3   \n",
       "...      ...   ...           ...            ...           ...        ...   \n",
       "5105       0  80.0             1              0             1          2   \n",
       "5106       0  81.0             0              0             1          3   \n",
       "5107       0  35.0             0              0             1          3   \n",
       "5108       1  51.0             0              0             1          2   \n",
       "5109       0  44.0             0              0             1          0   \n",
       "\n",
       "      Residence_type  avg_glucose_level   bmi  smoking_status  stroke  \n",
       "0                  1             228.69  36.6             0.0       1  \n",
       "1                  0             202.21   NaN             1.0       1  \n",
       "2                  0             105.92  32.5             1.0       1  \n",
       "3                  1             171.23  34.4             2.0       1  \n",
       "4                  0             174.12  24.0             1.0       1  \n",
       "...              ...                ...   ...             ...     ...  \n",
       "5105               1              83.75   NaN             1.0       0  \n",
       "5106               1             125.20  40.0             1.0       0  \n",
       "5107               0              82.99  30.6             1.0       0  \n",
       "5108               0             166.29  25.6             0.0       0  \n",
       "5109               1              85.28  26.2             NaN       0  \n",
       "\n",
       "[5109 rows x 11 columns]"
      ]
     },
     "execution_count": 38,
     "metadata": {},
     "output_type": "execute_result"
    }
   ],
   "source": [
    "encoded_data"
   ]
  },
  {
   "cell_type": "code",
   "execution_count": 39,
   "metadata": {},
   "outputs": [],
   "source": [
    "#drop nans\n",
    "drop_fill = encoded_data.copy()\n",
    "drop_fill = drop_fill.dropna()\n",
    "drop_fill['smoking_status'] = drop_fill['smoking_status'].astype(int)"
   ]
  },
  {
   "cell_type": "code",
   "execution_count": 40,
   "metadata": {
    "scrolled": false
   },
   "outputs": [],
   "source": [
    "#fill by mean\n",
    "mean_fill = encoded_data.copy()\n",
    "mean_fill['bmi'] = mean_fill['bmi'].fillna(mean_fill['bmi'].mean())\n",
    "\n",
    "mean_fill['smoking_status'] = mean_fill['smoking_status'].fillna(int(np.round(mean_fill['smoking_status'].mean())))"
   ]
  },
  {
   "cell_type": "code",
   "execution_count": 41,
   "metadata": {
    "scrolled": true
   },
   "outputs": [],
   "source": [
    "#fill by linear regression\n",
    "regression_fill = encoded_data.copy()\n",
    "regressor = LinearRegression()"
   ]
  },
  {
   "cell_type": "code",
   "execution_count": 42,
   "metadata": {},
   "outputs": [],
   "source": [
    "#first fill bmi\n",
    "y = encoded_data[encoded_data['bmi'].notna()==True]['bmi']\n",
    "X = encoded_data[encoded_data['bmi'].notna()==True].drop(['bmi', 'smoking_status'], axis=1)\n",
    "\n",
    "regressor.fit(X,y)\n",
    "\n",
    "X_pred = encoded_data[encoded_data['bmi'].isna()==True].drop(['bmi', 'smoking_status'], axis=1)\n",
    "y_pred = regressor.predict(X_pred)\n",
    "\n",
    "regression_fill.loc[regression_fill['bmi'].isna(), 'bmi'] = y_pred"
   ]
  },
  {
   "cell_type": "code",
   "execution_count": 43,
   "metadata": {
    "scrolled": true
   },
   "outputs": [],
   "source": [
    "#then use bmi as well to fill smoking status\n",
    "y = regression_fill[regression_fill['smoking_status'].notna()==True]['smoking_status']\n",
    "X = regression_fill[regression_fill['smoking_status'].notna()==True].drop(['smoking_status'], axis=1)\n",
    "\n",
    "regressor.fit(X,y)\n",
    "\n",
    "X_pred = regression_fill[regression_fill['smoking_status'].isna()==True].drop(['smoking_status'], axis=1)\n",
    "y_pred = regressor.predict(X_pred)\n",
    "\n",
    "regression_fill.loc[regression_fill['smoking_status'].isna(), 'smoking_status'] = np.round(y_pred).astype('uint8')\n",
    "regression_fill['smoking_status'] = regression_fill['smoking_status'].astype(int)"
   ]
  },
  {
   "cell_type": "code",
   "execution_count": 46,
   "metadata": {},
   "outputs": [],
   "source": [
    "#fill by KNN\n",
    "KNN_fill = encoded_data.copy()\n",
    "KNN = KNNImputer(n_neighbors=5, weights='uniform', metric='nan_euclidean')\n",
    "KNN_fill = KNN.fit_transform(KNN_fill)\n",
    "KNN_fill = pd.DataFrame(KNN_fill, columns = encoded_data.columns)\n",
    "\n",
    "KNN_fill[categorical_columns] = KNN_fill[categorical_columns].round().astype(int) #round smoking status, and convert categorical columns to int"
   ]
  },
  {
   "cell_type": "code",
   "execution_count": 47,
   "metadata": {
    "scrolled": false
   },
   "outputs": [
    {
     "data": {
      "image/png": "[encoded data removed]",
      "text/plain": [
       "<Figure size 1080x360 with 2 Axes>"
      ]
     },
     "metadata": {
      "needs_background": "light"
     },
     "output_type": "display_data"
    },
    {
     "data": {
      "image/png": "[encoded data removed]",
      "text/plain": [
       "<Figure size 1080x360 with 2 Axes>"
      ]
     },
     "metadata": {
      "needs_background": "light"
     },
     "output_type": "display_data"
    },
    {
     "data": {
      "image/png": "[encoded data removed]",
      "text/plain": [
       "<Figure size 1080x360 with 2 Axes>"
      ]
     },
     "metadata": {
      "needs_background": "light"
     },
     "output_type": "display_data"
    },
    {
     "data": {
      "image/png": "[encoded data removed]",
      "text/plain": [
       "<Figure size 1080x360 with 2 Axes>"
      ]
     },
     "metadata": {
      "needs_background": "light"
     },
     "output_type": "display_data"
    }
   ],
   "source": [
    "for i in [drop_fill, mean_fill, regression_fill, KNN_fill]:\n",
    "    i.hist(column = ['bmi', 'smoking_status'], bins=10, figsize=(15,5))"
   ]
  },
  {
   "cell_type": "code",
   "execution_count": 95,
   "metadata": {},
   "outputs": [],
   "source": [
    "def classification(Data, classifier):\n",
    "    X = Data.drop(['stroke'], axis=1)\n",
    "    y = Data['stroke']\n",
    "    \n",
    "    X_train, X_test, y_train, y_test = train_test_split(X, y, test_size=0.25, random_state=69)\n",
    "    \n",
    "    classifier.fit(X_train, y_train)\n",
    "    preds = classifier.predict(X_test)\n",
    "    probs = classifier.predict_proba(X_test)\n",
    "    print(\"------------------------------ Classification Results------------------------------\")\n",
    "    target_names = ['Not Stroke','Stroke']\n",
    "    print(classification_report(y_test, preds,target_names=target_names))\n",
    "    print(f\"\"\"Accuray: {round(accuracy_score(y_test, preds), 5) * 100}%\n",
    "ROC-AUC: {round(roc_auc_score(y_test, preds), 5) * 100}%\\n\"\"\")\n",
    "    print(pd.crosstab(y_test, preds))\n",
    "    \n",
    "    fpr, tpr, thresholds = roc_curve(y_test, probs[:,1], pos_label=1, drop_intermediate=False) #roc curve\n",
    "\n",
    "    fig = plt.figure(figsize=(5,5)) #plot roc curve\n",
    "    plt.plot(fpr,tpr)\n",
    "    plt.show()"
   ]
  },
  {
   "cell_type": "code",
   "execution_count": 102,
   "metadata": {
    "scrolled": false
   },
   "outputs": [
    {
     "name": "stdout",
     "output_type": "stream",
     "text": [
      "------------------------------ Classification Results------------------------------\n",
      "              precision    recall  f1-score   support\n",
      "\n",
      "  Not Stroke       0.99      0.74      0.85       813\n",
      "      Stroke       0.15      0.84      0.25        44\n",
      "\n",
      "    accuracy                           0.74       857\n",
      "   macro avg       0.57      0.79      0.55       857\n",
      "weighted avg       0.95      0.74      0.81       857\n",
      "\n",
      "Accuray: 74.32900000000001%\n",
      "ROC-AUC: 78.946%\n",
      "\n",
      "col_0     0    1\n",
      "stroke          \n",
      "0       600  213\n",
      "1         7   37\n"
     ]
    },
    {
     "data": {
      "image/png": "[encoded data removed]",
      "text/plain": [
       "<Figure size 360x360 with 1 Axes>"
      ]
     },
     "metadata": {
      "needs_background": "light"
     },
     "output_type": "display_data"
    },
    {
     "name": "stdout",
     "output_type": "stream",
     "text": [
      "------------------------------ Classification Results------------------------------\n",
      "              precision    recall  f1-score   support\n",
      "\n",
      "  Not Stroke       0.99      0.72      0.83      1219\n",
      "      Stroke       0.12      0.78      0.21        59\n",
      "\n",
      "    accuracy                           0.72      1278\n",
      "   macro avg       0.55      0.75      0.52      1278\n",
      "weighted avg       0.95      0.72      0.80      1278\n",
      "\n",
      "Accuray: 72.379%\n",
      "ROC-AUC: 75.03699999999999%\n",
      "\n",
      "col_0     0    1\n",
      "stroke          \n",
      "0       879  340\n",
      "1        13   46\n"
     ]
    },
    {
     "data": {
      "image/png": "[encoded data removed]",
      "text/plain": [
       "<Figure size 360x360 with 1 Axes>"
      ]
     },
     "metadata": {
      "needs_background": "light"
     },
     "output_type": "display_data"
    },
    {
     "name": "stdout",
     "output_type": "stream",
     "text": [
      "------------------------------ Classification Results------------------------------\n",
      "              precision    recall  f1-score   support\n",
      "\n",
      "  Not Stroke       0.99      0.73      0.84      1219\n",
      "      Stroke       0.12      0.78      0.21        59\n",
      "\n",
      "    accuracy                           0.73      1278\n",
      "   macro avg       0.55      0.75      0.52      1278\n",
      "weighted avg       0.95      0.73      0.81      1278\n",
      "\n",
      "Accuray: 73.161%\n",
      "ROC-AUC: 75.447%\n",
      "\n",
      "col_0     0    1\n",
      "stroke          \n",
      "0       889  330\n",
      "1        13   46\n"
     ]
    },
    {
     "data": {
      "image/png": "[encoded data removed]",
      "text/plain": [
       "<Figure size 360x360 with 1 Axes>"
      ]
     },
     "metadata": {
      "needs_background": "light"
     },
     "output_type": "display_data"
    },
    {
     "name": "stdout",
     "output_type": "stream",
     "text": [
      "------------------------------ Classification Results------------------------------\n",
      "              precision    recall  f1-score   support\n",
      "\n",
      "  Not Stroke       0.99      0.73      0.84      1219\n",
      "      Stroke       0.12      0.78      0.21        59\n",
      "\n",
      "    accuracy                           0.73      1278\n",
      "   macro avg       0.55      0.75      0.52      1278\n",
      "weighted avg       0.95      0.73      0.81      1278\n",
      "\n",
      "Accuray: 73.083%\n",
      "ROC-AUC: 75.40599999999999%\n",
      "\n",
      "col_0   0.0  1.0\n",
      "stroke          \n",
      "0.0     888  331\n",
      "1.0      13   46\n"
     ]
    },
    {
     "data": {
      "image/png": "[encoded data removed]",
      "text/plain": [
       "<Figure size 360x360 with 1 Axes>"
      ]
     },
     "metadata": {
      "needs_background": "light"
     },
     "output_type": "display_data"
    }
   ],
   "source": [
    "clfMean = RandomForestClassifier(n_estimators=39,max_depth=4,random_state=0, class_weight='balanced')\n",
    "\n",
    "for i in [drop_fill, mean_fill, regression_fill, KNN_fill]:\n",
    "    classification(i, clfMean)"
   ]
  },
  {
   "cell_type": "code",
   "execution_count": 98,
   "metadata": {},
   "outputs": [
    {
     "name": "stdout",
     "output_type": "stream",
     "text": [
      "[ 0.52561728 10.25903614]\n"
     ]
    },
    {
     "name": "stderr",
     "output_type": "stream",
     "text": [
      "C:\\Users\\krist\\anaconda3\\lib\\site-packages\\sklearn\\utils\\validation.py:70: FutureWarning: Pass classes=[0 1], y=[1 1 1 ... 0 0 0] as keyword args. From version 1.0 (renaming of 0.25) passing these as positional arguments will result in an error\n",
      "  warnings.warn(f\"Pass {args_msg} as keyword args. From version \"\n"
     ]
    }
   ],
   "source": [
    "train_labels = np.array(encoded_data['stroke'])\n",
    "class_wts = compute_class_weight('balanced', np.unique(train_labels), train_labels) # compute the class weights\n",
    "print(class_wts)"
   ]
  },
  {
   "cell_type": "code",
   "execution_count": 106,
   "metadata": {
    "scrolled": false
   },
   "outputs": [
    {
     "name": "stdout",
     "output_type": "stream",
     "text": [
      "------------------------------ Classification Results------------------------------\n",
      "              precision    recall  f1-score   support\n",
      "\n",
      "  Not Stroke       0.98      0.70      0.82       813\n",
      "      Stroke       0.12      0.75      0.20        44\n",
      "\n",
      "    accuracy                           0.70       857\n",
      "   macro avg       0.55      0.72      0.51       857\n",
      "weighted avg       0.94      0.70      0.78       857\n",
      "\n",
      "Accuray: 70.128%\n",
      "ROC-AUC: 72.432%\n",
      "\n",
      "col_0     0    1\n",
      "stroke          \n",
      "0       568  245\n",
      "1        11   33\n"
     ]
    },
    {
     "data": {
      "image/png": "[encoded data removed]",
      "text/plain": [
       "<Figure size 360x360 with 1 Axes>"
      ]
     },
     "metadata": {
      "needs_background": "light"
     },
     "output_type": "display_data"
    },
    {
     "name": "stdout",
     "output_type": "stream",
     "text": [
      "------------------------------ Classification Results------------------------------\n",
      "              precision    recall  f1-score   support\n",
      "\n",
      "  Not Stroke       0.98      0.76      0.86      1219\n",
      "      Stroke       0.12      0.68      0.21        59\n",
      "\n",
      "    accuracy                           0.76      1278\n",
      "   macro avg       0.55      0.72      0.53      1278\n",
      "weighted avg       0.94      0.76      0.83      1278\n",
      "\n",
      "Accuray: 75.74300000000001%\n",
      "ROC-AUC: 71.962%\n",
      "\n",
      "col_0     0    1\n",
      "stroke          \n",
      "0       928  291\n",
      "1        19   40\n"
     ]
    },
    {
     "data": {
      "image/png": "[encoded data removed]",
      "text/plain": [
       "<Figure size 360x360 with 1 Axes>"
      ]
     },
     "metadata": {
      "needs_background": "light"
     },
     "output_type": "display_data"
    },
    {
     "name": "stdout",
     "output_type": "stream",
     "text": [
      "------------------------------ Classification Results------------------------------\n",
      "              precision    recall  f1-score   support\n",
      "\n",
      "  Not Stroke       0.98      0.74      0.85      1219\n",
      "      Stroke       0.12      0.71      0.20        59\n",
      "\n",
      "    accuracy                           0.74      1278\n",
      "   macro avg       0.55      0.73      0.53      1278\n",
      "weighted avg       0.94      0.74      0.82      1278\n",
      "\n",
      "Accuray: 74.335%\n",
      "ROC-AUC: 72.83699999999999%\n",
      "\n",
      "col_0     0    1\n",
      "stroke          \n",
      "0       908  311\n",
      "1        17   42\n"
     ]
    },
    {
     "data": {
      "image/png": "[encoded data removed]",
      "text/plain": [
       "<Figure size 360x360 with 1 Axes>"
      ]
     },
     "metadata": {
      "needs_background": "light"
     },
     "output_type": "display_data"
    },
    {
     "name": "stdout",
     "output_type": "stream",
     "text": [
      "------------------------------ Classification Results------------------------------\n",
      "              precision    recall  f1-score   support\n",
      "\n",
      "  Not Stroke       0.98      0.77      0.86      1219\n",
      "      Stroke       0.13      0.69      0.21        59\n",
      "\n",
      "    accuracy                           0.76      1278\n",
      "   macro avg       0.55      0.73      0.54      1278\n",
      "weighted avg       0.94      0.76      0.83      1278\n",
      "\n",
      "Accuray: 76.369%\n",
      "ROC-AUC: 73.097%\n",
      "\n",
      "col_0   0.0  1.0\n",
      "stroke          \n",
      "0.0     935  284\n",
      "1.0      18   41\n"
     ]
    },
    {
     "data": {
      "image/png": "[encoded data removed]",
      "text/plain": [
       "<Figure size 360x360 with 1 Axes>"
      ]
     },
     "metadata": {
      "needs_background": "light"
     },
     "output_type": "display_data"
    }
   ],
   "source": [
    "clfMean = BalancedRandomForestClassifier(n_estimators=10)\n",
    "\n",
    "for i in [drop_fill, mean_fill, regression_fill, KNN_fill]:\n",
    "    classification(i, clfMean)"
   ]
  }
 ],
 "metadata": {
  "kernelspec": {
   "display_name": "Python 3",
   "language": "python",
   "name": "python3"
  },
  "language_info": {
   "codemirror_mode": {
    "name": "ipython",
    "version": 3
   },
   "file_extension": ".py",
   "mimetype": "text/x-python",
   "name": "python",
   "nbconvert_exporter": "python",
   "pygments_lexer": "ipython3",
   "version": "3.8.5"
  }
 },
 "nbformat": 4,
 "nbformat_minor": 4
}
